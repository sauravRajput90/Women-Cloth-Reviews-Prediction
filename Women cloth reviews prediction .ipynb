{
 "cells": [
  {
   "cell_type": "markdown",
   "id": "5ba20d96-9fa1-445d-9b90-039cf5ae2145",
   "metadata": {},
   "source": [
    "# Title of Project: Women Cloth Reviews Prediction with Multi-Nomial Naïve Bayes"
   ]
  },
  {
   "cell_type": "markdown",
   "id": "54f893c5-d58a-4e1d-88b6-eee0955e19c9",
   "metadata": {},
   "source": [
    "## Objective: The objective of this project is to build a prediction model for women's clothing reviews using the Multi-Nomial Naïve Bayes algorithm. The model aims to classify reviews into two categories: \"Good\" and \"Poor\" based on the ratings provided by the customers."
   ]
  },
  {
   "cell_type": "markdown",
   "id": "da21d239-4fa6-437a-a930-ae11a3299719",
   "metadata": {},
   "source": [
    "## Data Source: The dataset used for this project is obtained from the YBIFoundation/ProjectHub-MachineLearning Women Clothing E-Commerce Review dataset."
   ]
  },
  {
   "cell_type": "markdown",
   "id": "8f9d47eb-4e15-439e-adae-40276b9954f4",
   "metadata": {},
   "source": [
    "# Import Library"
   ]
  },
  {
   "cell_type": "code",
   "execution_count": 6,
   "id": "6e04eba1-74ee-4696-ab79-baff06ada005",
   "metadata": {},
   "outputs": [],
   "source": [
    "import pandas as pd\n",
    "import numpy as np\n",
    "import matplotlib.pyplot as plt\n",
    "import seaborn as sns"
   ]
  },
  {
   "cell_type": "markdown",
   "id": "31e1f6bb-c5e2-4ead-bcd8-bb066ae7d8e1",
   "metadata": {},
   "source": [
    "# Import Dataset"
   ]
  },
  {
   "cell_type": "code",
   "execution_count": 8,
   "id": "85af7f43-52e6-46fd-9700-4f5ed6236899",
   "metadata": {},
   "outputs": [],
   "source": [
    "df = pd.read_csv(\"E:\\INTERSHIP\\YBI FOUNDATION\\Women Clothing E-Commerce Review.csv\")"
   ]
  },
  {
   "cell_type": "code",
   "execution_count": 9,
   "id": "be70197d-d36e-44e7-9561-cf2a7c662e10",
   "metadata": {},
   "outputs": [
    {
     "data": {
      "text/html": [
       "<div>\n",
       "<style scoped>\n",
       "    .dataframe tbody tr th:only-of-type {\n",
       "        vertical-align: middle;\n",
       "    }\n",
       "\n",
       "    .dataframe tbody tr th {\n",
       "        vertical-align: top;\n",
       "    }\n",
       "\n",
       "    .dataframe thead th {\n",
       "        text-align: right;\n",
       "    }\n",
       "</style>\n",
       "<table border=\"1\" class=\"dataframe\">\n",
       "  <thead>\n",
       "    <tr style=\"text-align: right;\">\n",
       "      <th></th>\n",
       "      <th>Clothing ID</th>\n",
       "      <th>Age</th>\n",
       "      <th>Title</th>\n",
       "      <th>Review</th>\n",
       "      <th>Rating</th>\n",
       "      <th>Recommended</th>\n",
       "      <th>Positive Feedback</th>\n",
       "      <th>Division</th>\n",
       "      <th>Department</th>\n",
       "      <th>Category</th>\n",
       "    </tr>\n",
       "  </thead>\n",
       "  <tbody>\n",
       "    <tr>\n",
       "      <th>0</th>\n",
       "      <td>767</td>\n",
       "      <td>33</td>\n",
       "      <td>NaN</td>\n",
       "      <td>Absolutely wonderful - silky and sexy and comf...</td>\n",
       "      <td>4</td>\n",
       "      <td>1</td>\n",
       "      <td>0</td>\n",
       "      <td>Initmates</td>\n",
       "      <td>Intimate</td>\n",
       "      <td>Intimates</td>\n",
       "    </tr>\n",
       "    <tr>\n",
       "      <th>1</th>\n",
       "      <td>1080</td>\n",
       "      <td>34</td>\n",
       "      <td>NaN</td>\n",
       "      <td>Love this dress!  it's sooo pretty.  i happene...</td>\n",
       "      <td>5</td>\n",
       "      <td>1</td>\n",
       "      <td>4</td>\n",
       "      <td>General</td>\n",
       "      <td>Dresses</td>\n",
       "      <td>Dresses</td>\n",
       "    </tr>\n",
       "    <tr>\n",
       "      <th>2</th>\n",
       "      <td>1077</td>\n",
       "      <td>60</td>\n",
       "      <td>Some major design flaws</td>\n",
       "      <td>I had such high hopes for this dress and reall...</td>\n",
       "      <td>3</td>\n",
       "      <td>0</td>\n",
       "      <td>0</td>\n",
       "      <td>General</td>\n",
       "      <td>Dresses</td>\n",
       "      <td>Dresses</td>\n",
       "    </tr>\n",
       "    <tr>\n",
       "      <th>3</th>\n",
       "      <td>1049</td>\n",
       "      <td>50</td>\n",
       "      <td>My favorite buy!</td>\n",
       "      <td>I love, love, love this jumpsuit. it's fun, fl...</td>\n",
       "      <td>5</td>\n",
       "      <td>1</td>\n",
       "      <td>0</td>\n",
       "      <td>General Petite</td>\n",
       "      <td>Bottoms</td>\n",
       "      <td>Pants</td>\n",
       "    </tr>\n",
       "    <tr>\n",
       "      <th>4</th>\n",
       "      <td>847</td>\n",
       "      <td>47</td>\n",
       "      <td>Flattering shirt</td>\n",
       "      <td>This shirt is very flattering to all due to th...</td>\n",
       "      <td>5</td>\n",
       "      <td>1</td>\n",
       "      <td>6</td>\n",
       "      <td>General</td>\n",
       "      <td>Tops</td>\n",
       "      <td>Blouses</td>\n",
       "    </tr>\n",
       "    <tr>\n",
       "      <th>5</th>\n",
       "      <td>1080</td>\n",
       "      <td>49</td>\n",
       "      <td>Not for the very petite</td>\n",
       "      <td>I love tracy reese dresses, but this one is no...</td>\n",
       "      <td>2</td>\n",
       "      <td>0</td>\n",
       "      <td>4</td>\n",
       "      <td>General</td>\n",
       "      <td>Dresses</td>\n",
       "      <td>Dresses</td>\n",
       "    </tr>\n",
       "    <tr>\n",
       "      <th>6</th>\n",
       "      <td>858</td>\n",
       "      <td>39</td>\n",
       "      <td>Cagrcoal shimmer fun</td>\n",
       "      <td>I aded this in my basket at hte last mintue to...</td>\n",
       "      <td>5</td>\n",
       "      <td>1</td>\n",
       "      <td>1</td>\n",
       "      <td>General Petite</td>\n",
       "      <td>Tops</td>\n",
       "      <td>Knits</td>\n",
       "    </tr>\n",
       "    <tr>\n",
       "      <th>7</th>\n",
       "      <td>858</td>\n",
       "      <td>39</td>\n",
       "      <td>Shimmer, surprisingly goes with lots</td>\n",
       "      <td>I ordered this in carbon for store pick up, an...</td>\n",
       "      <td>4</td>\n",
       "      <td>1</td>\n",
       "      <td>4</td>\n",
       "      <td>General Petite</td>\n",
       "      <td>Tops</td>\n",
       "      <td>Knits</td>\n",
       "    </tr>\n",
       "    <tr>\n",
       "      <th>8</th>\n",
       "      <td>1077</td>\n",
       "      <td>24</td>\n",
       "      <td>Flattering</td>\n",
       "      <td>I love this dress. i usually get an xs but it ...</td>\n",
       "      <td>5</td>\n",
       "      <td>1</td>\n",
       "      <td>0</td>\n",
       "      <td>General</td>\n",
       "      <td>Dresses</td>\n",
       "      <td>Dresses</td>\n",
       "    </tr>\n",
       "    <tr>\n",
       "      <th>9</th>\n",
       "      <td>1077</td>\n",
       "      <td>34</td>\n",
       "      <td>Such a fun dress!</td>\n",
       "      <td>I'm 5\"5' and 125 lbs. i ordered the s petite t...</td>\n",
       "      <td>5</td>\n",
       "      <td>1</td>\n",
       "      <td>0</td>\n",
       "      <td>General</td>\n",
       "      <td>Dresses</td>\n",
       "      <td>Dresses</td>\n",
       "    </tr>\n",
       "  </tbody>\n",
       "</table>\n",
       "</div>"
      ],
      "text/plain": [
       "   Clothing ID  Age                                 Title  \\\n",
       "0          767   33                                   NaN   \n",
       "1         1080   34                                   NaN   \n",
       "2         1077   60               Some major design flaws   \n",
       "3         1049   50                      My favorite buy!   \n",
       "4          847   47                      Flattering shirt   \n",
       "5         1080   49               Not for the very petite   \n",
       "6          858   39                  Cagrcoal shimmer fun   \n",
       "7          858   39  Shimmer, surprisingly goes with lots   \n",
       "8         1077   24                            Flattering   \n",
       "9         1077   34                     Such a fun dress!   \n",
       "\n",
       "                                              Review  Rating  Recommended  \\\n",
       "0  Absolutely wonderful - silky and sexy and comf...       4            1   \n",
       "1  Love this dress!  it's sooo pretty.  i happene...       5            1   \n",
       "2  I had such high hopes for this dress and reall...       3            0   \n",
       "3  I love, love, love this jumpsuit. it's fun, fl...       5            1   \n",
       "4  This shirt is very flattering to all due to th...       5            1   \n",
       "5  I love tracy reese dresses, but this one is no...       2            0   \n",
       "6  I aded this in my basket at hte last mintue to...       5            1   \n",
       "7  I ordered this in carbon for store pick up, an...       4            1   \n",
       "8  I love this dress. i usually get an xs but it ...       5            1   \n",
       "9  I'm 5\"5' and 125 lbs. i ordered the s petite t...       5            1   \n",
       "\n",
       "   Positive Feedback        Division Department   Category  \n",
       "0                  0       Initmates   Intimate  Intimates  \n",
       "1                  4         General    Dresses    Dresses  \n",
       "2                  0         General    Dresses    Dresses  \n",
       "3                  0  General Petite    Bottoms      Pants  \n",
       "4                  6         General       Tops    Blouses  \n",
       "5                  4         General    Dresses    Dresses  \n",
       "6                  1  General Petite       Tops      Knits  \n",
       "7                  4  General Petite       Tops      Knits  \n",
       "8                  0         General    Dresses    Dresses  \n",
       "9                  0         General    Dresses    Dresses  "
      ]
     },
     "execution_count": 9,
     "metadata": {},
     "output_type": "execute_result"
    }
   ],
   "source": [
    "df.head(10)"
   ]
  },
  {
   "cell_type": "code",
   "execution_count": 10,
   "id": "5734b8af-d272-4d20-a83e-4b94c2f52299",
   "metadata": {},
   "outputs": [
    {
     "data": {
      "text/html": [
       "<div>\n",
       "<style scoped>\n",
       "    .dataframe tbody tr th:only-of-type {\n",
       "        vertical-align: middle;\n",
       "    }\n",
       "\n",
       "    .dataframe tbody tr th {\n",
       "        vertical-align: top;\n",
       "    }\n",
       "\n",
       "    .dataframe thead th {\n",
       "        text-align: right;\n",
       "    }\n",
       "</style>\n",
       "<table border=\"1\" class=\"dataframe\">\n",
       "  <thead>\n",
       "    <tr style=\"text-align: right;\">\n",
       "      <th></th>\n",
       "      <th>Clothing ID</th>\n",
       "      <th>Age</th>\n",
       "      <th>Title</th>\n",
       "      <th>Review</th>\n",
       "      <th>Rating</th>\n",
       "      <th>Recommended</th>\n",
       "      <th>Positive Feedback</th>\n",
       "      <th>Division</th>\n",
       "      <th>Department</th>\n",
       "      <th>Category</th>\n",
       "    </tr>\n",
       "  </thead>\n",
       "  <tbody>\n",
       "    <tr>\n",
       "      <th>23476</th>\n",
       "      <td>522</td>\n",
       "      <td>27</td>\n",
       "      <td>Cheeky!</td>\n",
       "      <td>These bottoms are very cute but defiantly chee...</td>\n",
       "      <td>4</td>\n",
       "      <td>1</td>\n",
       "      <td>0</td>\n",
       "      <td>Initmates</td>\n",
       "      <td>Intimate</td>\n",
       "      <td>Swim</td>\n",
       "    </tr>\n",
       "    <tr>\n",
       "      <th>23477</th>\n",
       "      <td>1094</td>\n",
       "      <td>39</td>\n",
       "      <td>Entrancing</td>\n",
       "      <td>I'm so impressed with the beautiful color comb...</td>\n",
       "      <td>4</td>\n",
       "      <td>1</td>\n",
       "      <td>5</td>\n",
       "      <td>General Petite</td>\n",
       "      <td>Dresses</td>\n",
       "      <td>Dresses</td>\n",
       "    </tr>\n",
       "    <tr>\n",
       "      <th>23478</th>\n",
       "      <td>1104</td>\n",
       "      <td>32</td>\n",
       "      <td>Unflattering</td>\n",
       "      <td>I was surprised at the positive reviews for th...</td>\n",
       "      <td>1</td>\n",
       "      <td>0</td>\n",
       "      <td>0</td>\n",
       "      <td>General Petite</td>\n",
       "      <td>Dresses</td>\n",
       "      <td>Dresses</td>\n",
       "    </tr>\n",
       "    <tr>\n",
       "      <th>23479</th>\n",
       "      <td>1005</td>\n",
       "      <td>42</td>\n",
       "      <td>What a fun piece!</td>\n",
       "      <td>So i wasn't sure about ordering this skirt bec...</td>\n",
       "      <td>5</td>\n",
       "      <td>1</td>\n",
       "      <td>0</td>\n",
       "      <td>General Petite</td>\n",
       "      <td>Bottoms</td>\n",
       "      <td>Skirts</td>\n",
       "    </tr>\n",
       "    <tr>\n",
       "      <th>23480</th>\n",
       "      <td>862</td>\n",
       "      <td>35</td>\n",
       "      <td>NaN</td>\n",
       "      <td>NaN</td>\n",
       "      <td>5</td>\n",
       "      <td>1</td>\n",
       "      <td>0</td>\n",
       "      <td>General Petite</td>\n",
       "      <td>Tops</td>\n",
       "      <td>Knits</td>\n",
       "    </tr>\n",
       "    <tr>\n",
       "      <th>23481</th>\n",
       "      <td>1104</td>\n",
       "      <td>34</td>\n",
       "      <td>Great dress for many occasions</td>\n",
       "      <td>I was very happy to snag this dress at such a ...</td>\n",
       "      <td>5</td>\n",
       "      <td>1</td>\n",
       "      <td>0</td>\n",
       "      <td>General Petite</td>\n",
       "      <td>Dresses</td>\n",
       "      <td>Dresses</td>\n",
       "    </tr>\n",
       "    <tr>\n",
       "      <th>23482</th>\n",
       "      <td>862</td>\n",
       "      <td>48</td>\n",
       "      <td>Wish it was made of cotton</td>\n",
       "      <td>It reminds me of maternity clothes. soft, stre...</td>\n",
       "      <td>3</td>\n",
       "      <td>1</td>\n",
       "      <td>0</td>\n",
       "      <td>General Petite</td>\n",
       "      <td>Tops</td>\n",
       "      <td>Knits</td>\n",
       "    </tr>\n",
       "    <tr>\n",
       "      <th>23483</th>\n",
       "      <td>1104</td>\n",
       "      <td>31</td>\n",
       "      <td>Cute, but see through</td>\n",
       "      <td>This fit well, but the top was very see throug...</td>\n",
       "      <td>3</td>\n",
       "      <td>0</td>\n",
       "      <td>1</td>\n",
       "      <td>General Petite</td>\n",
       "      <td>Dresses</td>\n",
       "      <td>Dresses</td>\n",
       "    </tr>\n",
       "    <tr>\n",
       "      <th>23484</th>\n",
       "      <td>1084</td>\n",
       "      <td>28</td>\n",
       "      <td>Very cute dress, perfect for summer parties an...</td>\n",
       "      <td>I bought this dress for a wedding i have this ...</td>\n",
       "      <td>3</td>\n",
       "      <td>1</td>\n",
       "      <td>2</td>\n",
       "      <td>General</td>\n",
       "      <td>Dresses</td>\n",
       "      <td>Dresses</td>\n",
       "    </tr>\n",
       "    <tr>\n",
       "      <th>23485</th>\n",
       "      <td>1104</td>\n",
       "      <td>52</td>\n",
       "      <td>Please make more like this one!</td>\n",
       "      <td>This dress in a lovely platinum is feminine an...</td>\n",
       "      <td>5</td>\n",
       "      <td>1</td>\n",
       "      <td>22</td>\n",
       "      <td>General Petite</td>\n",
       "      <td>Dresses</td>\n",
       "      <td>Dresses</td>\n",
       "    </tr>\n",
       "  </tbody>\n",
       "</table>\n",
       "</div>"
      ],
      "text/plain": [
       "       Clothing ID  Age                                              Title  \\\n",
       "23476          522   27                                            Cheeky!   \n",
       "23477         1094   39                                         Entrancing   \n",
       "23478         1104   32                                       Unflattering   \n",
       "23479         1005   42                                  What a fun piece!   \n",
       "23480          862   35                                                NaN   \n",
       "23481         1104   34                     Great dress for many occasions   \n",
       "23482          862   48                         Wish it was made of cotton   \n",
       "23483         1104   31                              Cute, but see through   \n",
       "23484         1084   28  Very cute dress, perfect for summer parties an...   \n",
       "23485         1104   52                    Please make more like this one!   \n",
       "\n",
       "                                                  Review  Rating  Recommended  \\\n",
       "23476  These bottoms are very cute but defiantly chee...       4            1   \n",
       "23477  I'm so impressed with the beautiful color comb...       4            1   \n",
       "23478  I was surprised at the positive reviews for th...       1            0   \n",
       "23479  So i wasn't sure about ordering this skirt bec...       5            1   \n",
       "23480                                                NaN       5            1   \n",
       "23481  I was very happy to snag this dress at such a ...       5            1   \n",
       "23482  It reminds me of maternity clothes. soft, stre...       3            1   \n",
       "23483  This fit well, but the top was very see throug...       3            0   \n",
       "23484  I bought this dress for a wedding i have this ...       3            1   \n",
       "23485  This dress in a lovely platinum is feminine an...       5            1   \n",
       "\n",
       "       Positive Feedback        Division Department Category  \n",
       "23476                  0       Initmates   Intimate     Swim  \n",
       "23477                  5  General Petite    Dresses  Dresses  \n",
       "23478                  0  General Petite    Dresses  Dresses  \n",
       "23479                  0  General Petite    Bottoms   Skirts  \n",
       "23480                  0  General Petite       Tops    Knits  \n",
       "23481                  0  General Petite    Dresses  Dresses  \n",
       "23482                  0  General Petite       Tops    Knits  \n",
       "23483                  1  General Petite    Dresses  Dresses  \n",
       "23484                  2         General    Dresses  Dresses  \n",
       "23485                 22  General Petite    Dresses  Dresses  "
      ]
     },
     "execution_count": 10,
     "metadata": {},
     "output_type": "execute_result"
    }
   ],
   "source": [
    "df.tail(10)"
   ]
  },
  {
   "cell_type": "code",
   "execution_count": 11,
   "id": "e4abf840-f9e8-45c5-aa62-48768e80d636",
   "metadata": {},
   "outputs": [
    {
     "name": "stdout",
     "output_type": "stream",
     "text": [
      "<class 'pandas.core.frame.DataFrame'>\n",
      "RangeIndex: 23486 entries, 0 to 23485\n",
      "Data columns (total 10 columns):\n",
      " #   Column             Non-Null Count  Dtype \n",
      "---  ------             --------------  ----- \n",
      " 0   Clothing ID        23486 non-null  int64 \n",
      " 1   Age                23486 non-null  int64 \n",
      " 2   Title              19676 non-null  object\n",
      " 3   Review             22641 non-null  object\n",
      " 4   Rating             23486 non-null  int64 \n",
      " 5   Recommended        23486 non-null  int64 \n",
      " 6   Positive Feedback  23486 non-null  int64 \n",
      " 7   Division           23472 non-null  object\n",
      " 8   Department         23472 non-null  object\n",
      " 9   Category           23472 non-null  object\n",
      "dtypes: int64(5), object(5)\n",
      "memory usage: 1.8+ MB\n"
     ]
    }
   ],
   "source": [
    "df.info()"
   ]
  },
  {
   "cell_type": "code",
   "execution_count": 12,
   "id": "451f76f4-0149-4cf6-b1a0-09b3f0f9e6e1",
   "metadata": {},
   "outputs": [
    {
     "data": {
      "text/plain": [
       "Index(['Clothing ID', 'Age', 'Title', 'Review', 'Rating', 'Recommended',\n",
       "       'Positive Feedback', 'Division', 'Department', 'Category'],\n",
       "      dtype='object')"
      ]
     },
     "execution_count": 12,
     "metadata": {},
     "output_type": "execute_result"
    }
   ],
   "source": [
    "df.columns"
   ]
  },
  {
   "cell_type": "code",
   "execution_count": 13,
   "id": "51ed3226-9a76-4642-a86b-148a5aa7fb3f",
   "metadata": {},
   "outputs": [
    {
     "data": {
      "text/plain": [
       "(23486, 10)"
      ]
     },
     "execution_count": 13,
     "metadata": {},
     "output_type": "execute_result"
    }
   ],
   "source": [
    "df.shape\n"
   ]
  },
  {
   "cell_type": "code",
   "execution_count": 14,
   "id": "2c47922e-681e-47e8-9bd5-4e1ba5f91e77",
   "metadata": {},
   "outputs": [
    {
     "data": {
      "text/html": [
       "<div>\n",
       "<style scoped>\n",
       "    .dataframe tbody tr th:only-of-type {\n",
       "        vertical-align: middle;\n",
       "    }\n",
       "\n",
       "    .dataframe tbody tr th {\n",
       "        vertical-align: top;\n",
       "    }\n",
       "\n",
       "    .dataframe thead th {\n",
       "        text-align: right;\n",
       "    }\n",
       "</style>\n",
       "<table border=\"1\" class=\"dataframe\">\n",
       "  <thead>\n",
       "    <tr style=\"text-align: right;\">\n",
       "      <th></th>\n",
       "      <th>Clothing ID</th>\n",
       "      <th>Age</th>\n",
       "      <th>Rating</th>\n",
       "      <th>Recommended</th>\n",
       "      <th>Positive Feedback</th>\n",
       "    </tr>\n",
       "  </thead>\n",
       "  <tbody>\n",
       "    <tr>\n",
       "      <th>count</th>\n",
       "      <td>23486.000000</td>\n",
       "      <td>23486.000000</td>\n",
       "      <td>23486.000000</td>\n",
       "      <td>23486.000000</td>\n",
       "      <td>23486.000000</td>\n",
       "    </tr>\n",
       "    <tr>\n",
       "      <th>mean</th>\n",
       "      <td>918.118709</td>\n",
       "      <td>43.198544</td>\n",
       "      <td>4.196032</td>\n",
       "      <td>0.822362</td>\n",
       "      <td>2.535936</td>\n",
       "    </tr>\n",
       "    <tr>\n",
       "      <th>std</th>\n",
       "      <td>203.298980</td>\n",
       "      <td>12.279544</td>\n",
       "      <td>1.110031</td>\n",
       "      <td>0.382216</td>\n",
       "      <td>5.702202</td>\n",
       "    </tr>\n",
       "    <tr>\n",
       "      <th>min</th>\n",
       "      <td>0.000000</td>\n",
       "      <td>18.000000</td>\n",
       "      <td>1.000000</td>\n",
       "      <td>0.000000</td>\n",
       "      <td>0.000000</td>\n",
       "    </tr>\n",
       "    <tr>\n",
       "      <th>25%</th>\n",
       "      <td>861.000000</td>\n",
       "      <td>34.000000</td>\n",
       "      <td>4.000000</td>\n",
       "      <td>1.000000</td>\n",
       "      <td>0.000000</td>\n",
       "    </tr>\n",
       "    <tr>\n",
       "      <th>50%</th>\n",
       "      <td>936.000000</td>\n",
       "      <td>41.000000</td>\n",
       "      <td>5.000000</td>\n",
       "      <td>1.000000</td>\n",
       "      <td>1.000000</td>\n",
       "    </tr>\n",
       "    <tr>\n",
       "      <th>75%</th>\n",
       "      <td>1078.000000</td>\n",
       "      <td>52.000000</td>\n",
       "      <td>5.000000</td>\n",
       "      <td>1.000000</td>\n",
       "      <td>3.000000</td>\n",
       "    </tr>\n",
       "    <tr>\n",
       "      <th>max</th>\n",
       "      <td>1205.000000</td>\n",
       "      <td>99.000000</td>\n",
       "      <td>5.000000</td>\n",
       "      <td>1.000000</td>\n",
       "      <td>122.000000</td>\n",
       "    </tr>\n",
       "  </tbody>\n",
       "</table>\n",
       "</div>"
      ],
      "text/plain": [
       "        Clothing ID           Age        Rating   Recommended  \\\n",
       "count  23486.000000  23486.000000  23486.000000  23486.000000   \n",
       "mean     918.118709     43.198544      4.196032      0.822362   \n",
       "std      203.298980     12.279544      1.110031      0.382216   \n",
       "min        0.000000     18.000000      1.000000      0.000000   \n",
       "25%      861.000000     34.000000      4.000000      1.000000   \n",
       "50%      936.000000     41.000000      5.000000      1.000000   \n",
       "75%     1078.000000     52.000000      5.000000      1.000000   \n",
       "max     1205.000000     99.000000      5.000000      1.000000   \n",
       "\n",
       "       Positive Feedback  \n",
       "count       23486.000000  \n",
       "mean            2.535936  \n",
       "std             5.702202  \n",
       "min             0.000000  \n",
       "25%             0.000000  \n",
       "50%             1.000000  \n",
       "75%             3.000000  \n",
       "max           122.000000  "
      ]
     },
     "execution_count": 14,
     "metadata": {},
     "output_type": "execute_result"
    }
   ],
   "source": [
    "df.describe()"
   ]
  },
  {
   "cell_type": "markdown",
   "id": "91aa609d-0838-424c-a16e-44440f04b2d3",
   "metadata": {},
   "source": [
    "# Missing Values\n",
    "Remove Missing Values in Reviews Columns with no Review Text"
   ]
  },
  {
   "cell_type": "code",
   "execution_count": 16,
   "id": "5bf7f9b8-a972-4acd-8afd-54381c42bb95",
   "metadata": {},
   "outputs": [
    {
     "data": {
      "text/plain": [
       "Clothing ID             0\n",
       "Age                     0\n",
       "Title                3810\n",
       "Review                845\n",
       "Rating                  0\n",
       "Recommended             0\n",
       "Positive Feedback       0\n",
       "Division               14\n",
       "Department             14\n",
       "Category               14\n",
       "dtype: int64"
      ]
     },
     "execution_count": 16,
     "metadata": {},
     "output_type": "execute_result"
    }
   ],
   "source": [
    "df.isna().sum()"
   ]
  },
  {
   "cell_type": "code",
   "execution_count": 17,
   "id": "ac9586d8-4675-4626-8a97-d7aaf78021f0",
   "metadata": {},
   "outputs": [
    {
     "data": {
      "text/plain": [
       "Clothing ID             0\n",
       "Age                     0\n",
       "Title                3810\n",
       "Review                  0\n",
       "Rating                  0\n",
       "Recommended             0\n",
       "Positive Feedback       0\n",
       "Division               14\n",
       "Department             14\n",
       "Category               14\n",
       "dtype: int64"
      ]
     },
     "execution_count": 17,
     "metadata": {},
     "output_type": "execute_result"
    }
   ],
   "source": [
    "df[df['Review']==\"\"] = np.NaN\n",
    "df['Review'].fillna(\"No review is given\", inplace=True)\n",
    "df.isna().sum()"
   ]
  },
  {
   "cell_type": "code",
   "execution_count": 18,
   "id": "aef217f7-4de3-4b55-9d23-83325125771a",
   "metadata": {},
   "outputs": [
    {
     "data": {
      "text/plain": [
       "0        Absolutely wonderful - silky and sexy and comf...\n",
       "1        Love this dress!  it's sooo pretty.  i happene...\n",
       "2        I had such high hopes for this dress and reall...\n",
       "3        I love, love, love this jumpsuit. it's fun, fl...\n",
       "4        This shirt is very flattering to all due to th...\n",
       "                               ...                        \n",
       "23481    I was very happy to snag this dress at such a ...\n",
       "23482    It reminds me of maternity clothes. soft, stre...\n",
       "23483    This fit well, but the top was very see throug...\n",
       "23484    I bought this dress for a wedding i have this ...\n",
       "23485    This dress in a lovely platinum is feminine an...\n",
       "Name: Review, Length: 23486, dtype: object"
      ]
     },
     "execution_count": 18,
     "metadata": {},
     "output_type": "execute_result"
    }
   ],
   "source": [
    "df['Review']"
   ]
  },
  {
   "cell_type": "markdown",
   "id": "76174ee2-1176-45fd-8395-7e15a2328dec",
   "metadata": {},
   "source": [
    "# Define Target (y) and Feauture(x)"
   ]
  },
  {
   "cell_type": "code",
   "execution_count": 20,
   "id": "4168aacb-b78f-4dc0-ac27-decb95d8ac85",
   "metadata": {},
   "outputs": [
    {
     "data": {
      "text/plain": [
       "Rating\n",
       "5    13131\n",
       "4     5077\n",
       "3     2871\n",
       "2     1565\n",
       "1      842\n",
       "Name: count, dtype: int64"
      ]
     },
     "execution_count": 20,
     "metadata": {},
     "output_type": "execute_result"
    }
   ],
   "source": [
    "x = df['Review']\n",
    "y = df['Rating']\n",
    "df['Rating'].value_counts()"
   ]
  },
  {
   "cell_type": "markdown",
   "id": "8f172a07-de32-4f95-9452-7a1295375b6a",
   "metadata": {},
   "source": [
    "# Train Text Split"
   ]
  },
  {
   "cell_type": "code",
   "execution_count": 22,
   "id": "cb3a7f6b-d9a7-411e-a288-b66b79d12071",
   "metadata": {},
   "outputs": [
    {
     "data": {
      "text/plain": [
       "((16440,), (7046,), (16440,), (7046,))"
      ]
     },
     "execution_count": 22,
     "metadata": {},
     "output_type": "execute_result"
    }
   ],
   "source": [
    "from sklearn.model_selection import train_test_split\n",
    "\n",
    "x_train, x_test, y_train, y_test = train_test_split(x, y, train_size=0.7, stratify=y, random_state=2529)\n",
    "x_train.shape, x_test.shape, y_train.shape, y_test.shape"
   ]
  },
  {
   "cell_type": "markdown",
   "id": "d6cab707-756e-4404-8488-c9e236e2a731",
   "metadata": {},
   "source": [
    "# Get Feature Text Conversion to Token"
   ]
  },
  {
   "cell_type": "code",
   "execution_count": 24,
   "id": "26605e86-da9b-4c0d-82db-019ce223676d",
   "metadata": {},
   "outputs": [
    {
     "data": {
      "text/plain": [
       "array(['00 big', '00 fits', '00 petite', ..., 'zipper zip',\n",
       "       'zippered pockets', 'zippers buttons'], dtype=object)"
      ]
     },
     "execution_count": 24,
     "metadata": {},
     "output_type": "execute_result"
    }
   ],
   "source": [
    "from sklearn.feature_extraction.text import CountVectorizer\n",
    "\n",
    "cv = CountVectorizer(lowercase=True, analyzer='word', ngram_range=(2, 3), stop_words='english', max_features=50000)\n",
    "x_train = cv.fit_transform(x_train)\n",
    "cv.get_feature_names_out()"
   ]
  },
  {
   "cell_type": "code",
   "execution_count": 25,
   "id": "9ae7f593-34f8-4857-b682-f3b49589e140",
   "metadata": {},
   "outputs": [
    {
     "data": {
      "text/plain": [
       "array([[0, 0, 0, ..., 0, 0, 0],\n",
       "       [0, 0, 0, ..., 0, 0, 0],\n",
       "       [0, 0, 0, ..., 0, 0, 0],\n",
       "       ...,\n",
       "       [0, 0, 0, ..., 0, 0, 0],\n",
       "       [0, 0, 0, ..., 0, 0, 0],\n",
       "       [0, 0, 0, ..., 0, 0, 0]], dtype=int64)"
      ]
     },
     "execution_count": 25,
     "metadata": {},
     "output_type": "execute_result"
    }
   ],
   "source": [
    "x_train.toarray()"
   ]
  },
  {
   "cell_type": "code",
   "execution_count": 26,
   "id": "19b7dbd0-de47-4f84-88da-e0a9b7f1786c",
   "metadata": {},
   "outputs": [
    {
     "data": {
      "text/plain": [
       "array(['00 24', '00 petite', '00 sold', ..., 'zipper split',\n",
       "       'zipper sturdy', 'zippers buttons'], dtype=object)"
      ]
     },
     "execution_count": 26,
     "metadata": {},
     "output_type": "execute_result"
    }
   ],
   "source": [
    "x_test = cv.fit_transform(x_test)\n",
    "cv.get_feature_names_out()"
   ]
  },
  {
   "cell_type": "code",
   "execution_count": 27,
   "id": "446efba8-909b-4e51-83d1-8348d2461306",
   "metadata": {},
   "outputs": [
    {
     "data": {
      "text/plain": [
       "array([[0, 0, 0, ..., 0, 0, 0],\n",
       "       [0, 0, 0, ..., 0, 0, 0],\n",
       "       [0, 0, 0, ..., 0, 0, 0],\n",
       "       ...,\n",
       "       [0, 0, 0, ..., 0, 0, 0],\n",
       "       [0, 0, 0, ..., 0, 0, 0],\n",
       "       [0, 0, 0, ..., 0, 0, 0]], dtype=int64)"
      ]
     },
     "execution_count": 27,
     "metadata": {},
     "output_type": "execute_result"
    }
   ],
   "source": [
    "x_test.toarray()"
   ]
  },
  {
   "cell_type": "markdown",
   "id": "61cffa04-718d-44f6-921f-1dea2d945bd4",
   "metadata": {},
   "source": [
    "# Get Model Train"
   ]
  },
  {
   "cell_type": "code",
   "execution_count": 29,
   "id": "dde55c5f-6a62-4756-8f3b-c4d4cffa7b94",
   "metadata": {},
   "outputs": [
    {
     "data": {
      "text/html": [
       "<style>#sk-container-id-1 {color: black;}#sk-container-id-1 pre{padding: 0;}#sk-container-id-1 div.sk-toggleable {background-color: white;}#sk-container-id-1 label.sk-toggleable__label {cursor: pointer;display: block;width: 100%;margin-bottom: 0;padding: 0.3em;box-sizing: border-box;text-align: center;}#sk-container-id-1 label.sk-toggleable__label-arrow:before {content: \"▸\";float: left;margin-right: 0.25em;color: #696969;}#sk-container-id-1 label.sk-toggleable__label-arrow:hover:before {color: black;}#sk-container-id-1 div.sk-estimator:hover label.sk-toggleable__label-arrow:before {color: black;}#sk-container-id-1 div.sk-toggleable__content {max-height: 0;max-width: 0;overflow: hidden;text-align: left;background-color: #f0f8ff;}#sk-container-id-1 div.sk-toggleable__content pre {margin: 0.2em;color: black;border-radius: 0.25em;background-color: #f0f8ff;}#sk-container-id-1 input.sk-toggleable__control:checked~div.sk-toggleable__content {max-height: 200px;max-width: 100%;overflow: auto;}#sk-container-id-1 input.sk-toggleable__control:checked~label.sk-toggleable__label-arrow:before {content: \"▾\";}#sk-container-id-1 div.sk-estimator input.sk-toggleable__control:checked~label.sk-toggleable__label {background-color: #d4ebff;}#sk-container-id-1 div.sk-label input.sk-toggleable__control:checked~label.sk-toggleable__label {background-color: #d4ebff;}#sk-container-id-1 input.sk-hidden--visually {border: 0;clip: rect(1px 1px 1px 1px);clip: rect(1px, 1px, 1px, 1px);height: 1px;margin: -1px;overflow: hidden;padding: 0;position: absolute;width: 1px;}#sk-container-id-1 div.sk-estimator {font-family: monospace;background-color: #f0f8ff;border: 1px dotted black;border-radius: 0.25em;box-sizing: border-box;margin-bottom: 0.5em;}#sk-container-id-1 div.sk-estimator:hover {background-color: #d4ebff;}#sk-container-id-1 div.sk-parallel-item::after {content: \"\";width: 100%;border-bottom: 1px solid gray;flex-grow: 1;}#sk-container-id-1 div.sk-label:hover label.sk-toggleable__label {background-color: #d4ebff;}#sk-container-id-1 div.sk-serial::before {content: \"\";position: absolute;border-left: 1px solid gray;box-sizing: border-box;top: 0;bottom: 0;left: 50%;z-index: 0;}#sk-container-id-1 div.sk-serial {display: flex;flex-direction: column;align-items: center;background-color: white;padding-right: 0.2em;padding-left: 0.2em;position: relative;}#sk-container-id-1 div.sk-item {position: relative;z-index: 1;}#sk-container-id-1 div.sk-parallel {display: flex;align-items: stretch;justify-content: center;background-color: white;position: relative;}#sk-container-id-1 div.sk-item::before, #sk-container-id-1 div.sk-parallel-item::before {content: \"\";position: absolute;border-left: 1px solid gray;box-sizing: border-box;top: 0;bottom: 0;left: 50%;z-index: -1;}#sk-container-id-1 div.sk-parallel-item {display: flex;flex-direction: column;z-index: 1;position: relative;background-color: white;}#sk-container-id-1 div.sk-parallel-item:first-child::after {align-self: flex-end;width: 50%;}#sk-container-id-1 div.sk-parallel-item:last-child::after {align-self: flex-start;width: 50%;}#sk-container-id-1 div.sk-parallel-item:only-child::after {width: 0;}#sk-container-id-1 div.sk-dashed-wrapped {border: 1px dashed gray;margin: 0 0.4em 0.5em 0.4em;box-sizing: border-box;padding-bottom: 0.4em;background-color: white;}#sk-container-id-1 div.sk-label label {font-family: monospace;font-weight: bold;display: inline-block;line-height: 1.2em;}#sk-container-id-1 div.sk-label-container {text-align: center;}#sk-container-id-1 div.sk-container {/* jupyter's `normalize.less` sets `[hidden] { display: none; }` but bootstrap.min.css set `[hidden] { display: none !important; }` so we also need the `!important` here to be able to override the default hidden behavior on the sphinx rendered scikit-learn.org. See: https://github.com/scikit-learn/scikit-learn/issues/21755 */display: inline-block !important;position: relative;}#sk-container-id-1 div.sk-text-repr-fallback {display: none;}</style><div id=\"sk-container-id-1\" class=\"sk-top-container\"><div class=\"sk-text-repr-fallback\"><pre>MultinomialNB()</pre><b>In a Jupyter environment, please rerun this cell to show the HTML representation or trust the notebook. <br />On GitHub, the HTML representation is unable to render, please try loading this page with nbviewer.org.</b></div><div class=\"sk-container\" hidden><div class=\"sk-item\"><div class=\"sk-estimator sk-toggleable\"><input class=\"sk-toggleable__control sk-hidden--visually\" id=\"sk-estimator-id-1\" type=\"checkbox\" checked><label for=\"sk-estimator-id-1\" class=\"sk-toggleable__label sk-toggleable__label-arrow\">MultinomialNB</label><div class=\"sk-toggleable__content\"><pre>MultinomialNB()</pre></div></div></div></div></div>"
      ],
      "text/plain": [
       "MultinomialNB()"
      ]
     },
     "execution_count": 29,
     "metadata": {},
     "output_type": "execute_result"
    }
   ],
   "source": [
    "from sklearn.naive_bayes import MultinomialNB\n",
    "\n",
    "model = MultinomialNB()\n",
    "model.fit(x_train, y_train)"
   ]
  },
  {
   "cell_type": "markdown",
   "id": "cc576c31-7e27-4d51-a564-b26c5c1bd43e",
   "metadata": {},
   "source": [
    "# Get Model Prediction"
   ]
  },
  {
   "cell_type": "code",
   "execution_count": 31,
   "id": "3fc9aded-0601-40aa-8bf0-1e7d33a68b7a",
   "metadata": {},
   "outputs": [
    {
     "data": {
      "text/plain": [
       "(7046,)"
      ]
     },
     "execution_count": 31,
     "metadata": {},
     "output_type": "execute_result"
    }
   ],
   "source": [
    "y_pred = model.predict(x_test)\n",
    "y_pred.shape"
   ]
  },
  {
   "cell_type": "code",
   "execution_count": 32,
   "id": "d9fbf4dc-a8c6-4109-b52a-e7ba6ddd0021",
   "metadata": {},
   "outputs": [
    {
     "data": {
      "text/plain": [
       "array([1, 2, 5, ..., 4, 3, 1], dtype=int64)"
      ]
     },
     "execution_count": 32,
     "metadata": {},
     "output_type": "execute_result"
    }
   ],
   "source": [
    "y_pred"
   ]
  },
  {
   "cell_type": "markdown",
   "id": "f3649149-c7ba-464f-bee2-35e966c94e6d",
   "metadata": {},
   "source": [
    "# Get Probability of Each Predicted Class"
   ]
  },
  {
   "cell_type": "code",
   "execution_count": 34,
   "id": "a532a5b6-5182-412d-924e-db109947a19f",
   "metadata": {},
   "outputs": [
    {
     "data": {
      "text/plain": [
       "array([[0.45433767, 0.08215679, 0.44111678, 0.00904855, 0.01334022],\n",
       "       [0.08538546, 0.53197259, 0.36096501, 0.00370374, 0.01797319],\n",
       "       [0.04978519, 0.07954803, 0.11784385, 0.31199241, 0.44083052],\n",
       "       ...,\n",
       "       [0.07871327, 0.0343138 , 0.02156397, 0.8608945 , 0.00451447],\n",
       "       [0.09545745, 0.00239741, 0.84956399, 0.01241549, 0.04016567],\n",
       "       [0.65456291, 0.01868614, 0.14266667, 0.04591333, 0.13817096]])"
      ]
     },
     "execution_count": 34,
     "metadata": {},
     "output_type": "execute_result"
    }
   ],
   "source": [
    "model.predict_proba(x_test)"
   ]
  },
  {
   "cell_type": "markdown",
   "id": "a4328202-28ca-4eaa-8cf2-444daa6e4fac",
   "metadata": {},
   "source": [
    "# Get Model Evaluation "
   ]
  },
  {
   "cell_type": "code",
   "execution_count": 36,
   "id": "b0d2b8c2-f9dd-4ccd-9382-fad22f67b115",
   "metadata": {},
   "outputs": [
    {
     "name": "stdout",
     "output_type": "stream",
     "text": [
      "[[  65   41   46   37   64]\n",
      " [ 158   75   57   80  100]\n",
      " [ 280  176  138  115  152]\n",
      " [ 539  297  217  201  269]\n",
      " [1237  777  619  533  773]]\n"
     ]
    }
   ],
   "source": [
    "from sklearn.metrics import confusion_matrix, classification_report\n",
    "print(confusion_matrix(y_test, y_pred))"
   ]
  },
  {
   "cell_type": "code",
   "execution_count": 37,
   "id": "a0274446-f7b7-4482-915e-41cf8f394755",
   "metadata": {},
   "outputs": [
    {
     "name": "stdout",
     "output_type": "stream",
     "text": [
      "              precision    recall  f1-score   support\n",
      "\n",
      "           1       0.03      0.26      0.05       253\n",
      "           2       0.05      0.16      0.08       470\n",
      "           3       0.13      0.16      0.14       861\n",
      "           4       0.21      0.13      0.16      1523\n",
      "           5       0.57      0.20      0.29      3939\n",
      "\n",
      "    accuracy                           0.18      7046\n",
      "   macro avg       0.20      0.18      0.15      7046\n",
      "weighted avg       0.38      0.18      0.22      7046\n",
      "\n"
     ]
    }
   ],
   "source": [
    "print(classification_report(y_test, y_pred))"
   ]
  },
  {
   "cell_type": "markdown",
   "id": "d8711665-1315-4e8c-ab12-6bbbd3ae8bd3",
   "metadata": {},
   "source": [
    "# Recategorizing ratings as Poor (0) and Good (1)"
   ]
  },
  {
   "cell_type": "code",
   "execution_count": 39,
   "id": "742c17d8-3135-495b-a9ff-6275f6b8faa8",
   "metadata": {},
   "outputs": [
    {
     "data": {
      "text/plain": [
       "Rating\n",
       "5    13131\n",
       "4     5077\n",
       "3     2871\n",
       "2     1565\n",
       "1      842\n",
       "Name: count, dtype: int64"
      ]
     },
     "execution_count": 39,
     "metadata": {},
     "output_type": "execute_result"
    }
   ],
   "source": [
    "df[\"Rating\"].value_counts()"
   ]
  },
  {
   "cell_type": "markdown",
   "id": "814d329b-2222-494c-acd8-838f0e0fea86",
   "metadata": {},
   "source": [
    "# Re-Rating as 1,2,3 as 0 and 4,5 as 1"
   ]
  },
  {
   "cell_type": "code",
   "execution_count": 41,
   "id": "d123a721-bae3-44ca-b6db-c7080565d267",
   "metadata": {},
   "outputs": [],
   "source": [
    "df.replace({'Rating': { 1:0, 2:0, 3:0, 4:1, 5:1 }}, inplace=True)\n",
    "y = df['Rating']\n",
    "x = df['Review']"
   ]
  },
  {
   "cell_type": "markdown",
   "id": "0e9eb1c3-166a-4693-8bf6-7520a2889715",
   "metadata": {},
   "source": [
    "# Train Test Split"
   ]
  },
  {
   "cell_type": "code",
   "execution_count": 43,
   "id": "689c5903-2b6e-4218-b145-4eca493ef1af",
   "metadata": {},
   "outputs": [
    {
     "data": {
      "text/plain": [
       "((16440,), (7046,), (16440,), (7046,))"
      ]
     },
     "execution_count": 43,
     "metadata": {},
     "output_type": "execute_result"
    }
   ],
   "source": [
    "from sklearn.model_selection import train_test_split\n",
    "\n",
    "x_train, x_test, y_train, y_test = train_test_split(x, y, train_size=0.7, stratify=y, random_state=2529)\n",
    "x_train.shape, x_test.shape, y_train.shape, y_test.shape"
   ]
  },
  {
   "cell_type": "markdown",
   "id": "48904541-73f0-4fa7-9caa-da0395bc8c58",
   "metadata": {},
   "source": [
    "# Get Feature Text Conversion to Token"
   ]
  },
  {
   "cell_type": "code",
   "execution_count": 45,
   "id": "461e7b38-1596-4235-97a8-1ef84eb46eef",
   "metadata": {},
   "outputs": [],
   "source": [
    "from sklearn.feature_extraction.text import CountVectorizer\n",
    "\n",
    "cv = CountVectorizer(lowercase=True, analyzer='word', ngram_range=(2, 3), stop_words='english', max_features=50000)\n",
    "x_train = cv.fit_transform(x_train)\n",
    "x_test = cv.fit_transform(x_test)"
   ]
  },
  {
   "cell_type": "markdown",
   "id": "b646f7e8-5393-4da4-a1de-f076e46892e0",
   "metadata": {},
   "source": [
    "# Get Model Re-Train"
   ]
  },
  {
   "cell_type": "code",
   "execution_count": 47,
   "id": "12c22f28-19c5-4849-9999-4d78262aaaa2",
   "metadata": {},
   "outputs": [
    {
     "data": {
      "text/html": [
       "<style>#sk-container-id-2 {color: black;}#sk-container-id-2 pre{padding: 0;}#sk-container-id-2 div.sk-toggleable {background-color: white;}#sk-container-id-2 label.sk-toggleable__label {cursor: pointer;display: block;width: 100%;margin-bottom: 0;padding: 0.3em;box-sizing: border-box;text-align: center;}#sk-container-id-2 label.sk-toggleable__label-arrow:before {content: \"▸\";float: left;margin-right: 0.25em;color: #696969;}#sk-container-id-2 label.sk-toggleable__label-arrow:hover:before {color: black;}#sk-container-id-2 div.sk-estimator:hover label.sk-toggleable__label-arrow:before {color: black;}#sk-container-id-2 div.sk-toggleable__content {max-height: 0;max-width: 0;overflow: hidden;text-align: left;background-color: #f0f8ff;}#sk-container-id-2 div.sk-toggleable__content pre {margin: 0.2em;color: black;border-radius: 0.25em;background-color: #f0f8ff;}#sk-container-id-2 input.sk-toggleable__control:checked~div.sk-toggleable__content {max-height: 200px;max-width: 100%;overflow: auto;}#sk-container-id-2 input.sk-toggleable__control:checked~label.sk-toggleable__label-arrow:before {content: \"▾\";}#sk-container-id-2 div.sk-estimator input.sk-toggleable__control:checked~label.sk-toggleable__label {background-color: #d4ebff;}#sk-container-id-2 div.sk-label input.sk-toggleable__control:checked~label.sk-toggleable__label {background-color: #d4ebff;}#sk-container-id-2 input.sk-hidden--visually {border: 0;clip: rect(1px 1px 1px 1px);clip: rect(1px, 1px, 1px, 1px);height: 1px;margin: -1px;overflow: hidden;padding: 0;position: absolute;width: 1px;}#sk-container-id-2 div.sk-estimator {font-family: monospace;background-color: #f0f8ff;border: 1px dotted black;border-radius: 0.25em;box-sizing: border-box;margin-bottom: 0.5em;}#sk-container-id-2 div.sk-estimator:hover {background-color: #d4ebff;}#sk-container-id-2 div.sk-parallel-item::after {content: \"\";width: 100%;border-bottom: 1px solid gray;flex-grow: 1;}#sk-container-id-2 div.sk-label:hover label.sk-toggleable__label {background-color: #d4ebff;}#sk-container-id-2 div.sk-serial::before {content: \"\";position: absolute;border-left: 1px solid gray;box-sizing: border-box;top: 0;bottom: 0;left: 50%;z-index: 0;}#sk-container-id-2 div.sk-serial {display: flex;flex-direction: column;align-items: center;background-color: white;padding-right: 0.2em;padding-left: 0.2em;position: relative;}#sk-container-id-2 div.sk-item {position: relative;z-index: 1;}#sk-container-id-2 div.sk-parallel {display: flex;align-items: stretch;justify-content: center;background-color: white;position: relative;}#sk-container-id-2 div.sk-item::before, #sk-container-id-2 div.sk-parallel-item::before {content: \"\";position: absolute;border-left: 1px solid gray;box-sizing: border-box;top: 0;bottom: 0;left: 50%;z-index: -1;}#sk-container-id-2 div.sk-parallel-item {display: flex;flex-direction: column;z-index: 1;position: relative;background-color: white;}#sk-container-id-2 div.sk-parallel-item:first-child::after {align-self: flex-end;width: 50%;}#sk-container-id-2 div.sk-parallel-item:last-child::after {align-self: flex-start;width: 50%;}#sk-container-id-2 div.sk-parallel-item:only-child::after {width: 0;}#sk-container-id-2 div.sk-dashed-wrapped {border: 1px dashed gray;margin: 0 0.4em 0.5em 0.4em;box-sizing: border-box;padding-bottom: 0.4em;background-color: white;}#sk-container-id-2 div.sk-label label {font-family: monospace;font-weight: bold;display: inline-block;line-height: 1.2em;}#sk-container-id-2 div.sk-label-container {text-align: center;}#sk-container-id-2 div.sk-container {/* jupyter's `normalize.less` sets `[hidden] { display: none; }` but bootstrap.min.css set `[hidden] { display: none !important; }` so we also need the `!important` here to be able to override the default hidden behavior on the sphinx rendered scikit-learn.org. See: https://github.com/scikit-learn/scikit-learn/issues/21755 */display: inline-block !important;position: relative;}#sk-container-id-2 div.sk-text-repr-fallback {display: none;}</style><div id=\"sk-container-id-2\" class=\"sk-top-container\"><div class=\"sk-text-repr-fallback\"><pre>MultinomialNB()</pre><b>In a Jupyter environment, please rerun this cell to show the HTML representation or trust the notebook. <br />On GitHub, the HTML representation is unable to render, please try loading this page with nbviewer.org.</b></div><div class=\"sk-container\" hidden><div class=\"sk-item\"><div class=\"sk-estimator sk-toggleable\"><input class=\"sk-toggleable__control sk-hidden--visually\" id=\"sk-estimator-id-2\" type=\"checkbox\" checked><label for=\"sk-estimator-id-2\" class=\"sk-toggleable__label sk-toggleable__label-arrow\">MultinomialNB</label><div class=\"sk-toggleable__content\"><pre>MultinomialNB()</pre></div></div></div></div></div>"
      ],
      "text/plain": [
       "MultinomialNB()"
      ]
     },
     "execution_count": 47,
     "metadata": {},
     "output_type": "execute_result"
    }
   ],
   "source": [
    "from sklearn.naive_bayes import MultinomialNB\n",
    "\n",
    "model = MultinomialNB()\n",
    "model.fit(x_train, y_train)"
   ]
  },
  {
   "cell_type": "markdown",
   "id": "91ac7a95-fee3-43eb-8401-dd140696ac75",
   "metadata": {},
   "source": [
    "# Get Model Prediction"
   ]
  },
  {
   "cell_type": "code",
   "execution_count": 49,
   "id": "a569f03c-326a-46c3-9784-fc0ff7704477",
   "metadata": {},
   "outputs": [
    {
     "data": {
      "text/plain": [
       "(7046,)"
      ]
     },
     "execution_count": 49,
     "metadata": {},
     "output_type": "execute_result"
    }
   ],
   "source": [
    "y_pred = model.predict(x_test)\n",
    "y_pred.shape"
   ]
  },
  {
   "cell_type": "code",
   "execution_count": 50,
   "id": "7d8f203b-ad4e-4084-aede-c9d098e03b4b",
   "metadata": {},
   "outputs": [
    {
     "data": {
      "text/plain": [
       "array([0, 0, 1, ..., 1, 1, 1], dtype=int64)"
      ]
     },
     "execution_count": 50,
     "metadata": {},
     "output_type": "execute_result"
    }
   ],
   "source": [
    "y_pred"
   ]
  },
  {
   "cell_type": "markdown",
   "id": "65878be4-abb0-49ad-9cdd-bd71c6cdc64d",
   "metadata": {},
   "source": [
    "# Get Model Evaluation"
   ]
  },
  {
   "cell_type": "code",
   "execution_count": 52,
   "id": "b2da8b23-18d9-44ac-a2b7-b6e05d303d01",
   "metadata": {},
   "outputs": [
    {
     "name": "stdout",
     "output_type": "stream",
     "text": [
      "[[ 712  871]\n",
      " [2643 2820]]\n"
     ]
    }
   ],
   "source": [
    "from sklearn.metrics import confusion_matrix, classification_report\n",
    "\n",
    "print(confusion_matrix(y_test, y_pred))"
   ]
  },
  {
   "cell_type": "code",
   "execution_count": 53,
   "id": "1f710a12-030b-4d38-aab6-eeefd4c8ac19",
   "metadata": {},
   "outputs": [
    {
     "name": "stdout",
     "output_type": "stream",
     "text": [
      "              precision    recall  f1-score   support\n",
      "\n",
      "           0       0.21      0.45      0.29      1583\n",
      "           1       0.76      0.52      0.62      5463\n",
      "\n",
      "    accuracy                           0.50      7046\n",
      "   macro avg       0.49      0.48      0.45      7046\n",
      "weighted avg       0.64      0.50      0.54      7046\n",
      "\n"
     ]
    }
   ],
   "source": [
    "print(classification_report(y_test, y_pred))"
   ]
  },
  {
   "cell_type": "markdown",
   "id": "b7ec92a9-3bb1-42c2-96ee-676002e0a78d",
   "metadata": {},
   "source": [
    "# Data Visualisation"
   ]
  },
  {
   "cell_type": "code",
   "execution_count": 55,
   "id": "fc728d42-b7de-4d0b-811c-a07fec3fead7",
   "metadata": {},
   "outputs": [
    {
     "data": {
      "image/png": "[encoded data removed]",
      "text/plain": [
       "<Figure size 1800x1200 with 8 Axes>"
      ]
     },
     "metadata": {},
     "output_type": "display_data"
    }
   ],
   "source": [
    "import matplotlib.pyplot as plt\n",
    "import seaborn as sns\n",
    "from sklearn.metrics import confusion_matrix, classification_report\n",
    "\n",
    "# Calculate review lengths\n",
    "review_lengths = df['Review'].apply(len)\n",
    "\n",
    "fig, axs = plt.subplots(2, 3, figsize=(18, 12))\n",
    "\n",
    "# 1. Distribution of ratings\n",
    "sns.countplot(x='Rating', data=df, ax=axs[0, 0])\n",
    "axs[0, 0].set_title('Distribution of Ratings')\n",
    "axs[0, 0].set_xlabel('Rating')\n",
    "axs[0, 0].set_ylabel('Count')\n",
    "\n",
    "# 2. Distribution of review lengths\n",
    "sns.histplot(review_lengths, bins=50, kde=True, ax=axs[0, 1])\n",
    "axs[0, 1].set_title('Distribution of Review Lengths')\n",
    "axs[0, 1].set_xlabel('Review Length')\n",
    "axs[0, 1].set_ylabel('Count')\n",
    "\n",
    "# 3. Distribution of review lengths by rating\n",
    "sns.boxplot(x='Rating', y=review_lengths, data=df, ax=axs[0, 2])\n",
    "axs[0, 2].set_title('Distribution of Review Lengths by Rating')\n",
    "axs[0, 2].set_xlabel('Rating')\n",
    "axs[0, 2].set_ylabel('Review Length')\n",
    "\n",
    "# 4. Confusion matrix visualization\n",
    "sns.heatmap(confusion_matrix(y_test, y_pred), annot=True, cmap='Blues', fmt='g', ax=axs[1, 0])\n",
    "axs[1, 0].set_title('Confusion Matrix')\n",
    "axs[1, 0].set_xlabel('Predicted')\n",
    "axs[1, 0].set_ylabel('Actual')\n",
    "\n",
    "# 5. Classification report visualization\n",
    "report = classification_report(y_test, y_pred, output_dict=True)\n",
    "df_report = pd.DataFrame(report).transpose()\n",
    "sns.heatmap(df_report.iloc[:-1, :-1], annot=True, cmap='YlGnBu', fmt='.2f', ax=axs[1, 1])\n",
    "axs[1, 1].set_title('Classification Report')\n",
    "\n",
    "# 6. Distribution of predicted probabilities for each class\n",
    "y_pred_proba = model.predict_proba(x_test)\n",
    "for i in range(y_pred_proba.shape[1]):\n",
    "    sns.histplot(y_pred_proba[:, i], kde=True, label=f'Class {i}', alpha=0.5, ax=axs[1, 2])\n",
    "axs[1, 2].set_title('Distribution of Predicted Probabilities for Each Class')\n",
    "axs[1, 2].set_xlabel('Probability')\n",
    "axs[1, 2].set_ylabel('Density')\n",
    "axs[1, 2].legend()\n",
    "\n",
    "plt.tight_layout()\n",
    "plt.show()"
   ]
  },
  {
   "cell_type": "code",
   "execution_count": null,
   "id": "e0f7ea4e-556f-42f7-a887-5cf3114a8b56",
   "metadata": {},
   "outputs": [],
   "source": []
  },
  {
   "cell_type": "code",
   "execution_count": null,
   "id": "3d3d85b3-632d-4634-a2b3-9cf5b1474846",
   "metadata": {},
   "outputs": [],
   "source": []
  }
 ],
 "metadata": {
  "kernelspec": {
   "display_name": "Python 3 (ipykernel)",
   "language": "python",
   "name": "python3"
  },
  "language_info": {
   "codemirror_mode": {
    "name": "ipython",
    "version": 3
   },
   "file_extension": ".py",
   "mimetype": "text/x-python",
   "name": "python",
   "nbconvert_exporter": "python",
   "pygments_lexer": "ipython3",
   "version": "3.11.5"
  }
 },
 "nbformat": 4,
 "nbformat_minor": 5
}
